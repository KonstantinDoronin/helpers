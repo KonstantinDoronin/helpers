{
 "metadata": {
  "language_info": {
   "codemirror_mode": {
    "name": "ipython",
    "version": 3
   },
   "file_extension": ".py",
   "mimetype": "text/x-python",
   "name": "python",
   "nbconvert_exporter": "python",
   "pygments_lexer": "ipython3",
   "version": "3.7.4-final"
  },
  "orig_nbformat": 2,
  "kernelspec": {
   "name": "python_defaultSpec_1600695042238",
   "display_name": "Python 3.7.4 64-bit ('base': conda)"
  }
 },
 "nbformat": 4,
 "nbformat_minor": 2,
 "cells": [
  {
   "cell_type": "code",
   "execution_count": 1,
   "metadata": {},
   "outputs": [],
   "source": [
    "import pandas as pd\n",
    "from pandas.io.json import json_normalize\n",
    "import json\n",
    "from requests_html import HTMLSession\n",
    "\n",
    "session = HTMLSession()\n",
    "\n",
    "metrika_headers = {\n",
    "    'GET': '/management/v1/counters HTTP/1.1',\n",
    "    'Host': 'api-metrika.yandex.net',\n",
    "    'Authorization': '',\n",
    "    'Content-Type': 'application/x-yametrika+json'\n",
    "    }\n",
    "\n",
    "#n = \"30\"\n",
    "#counter = \"52015214\"\n",
    "counters = ['52015214', '40011245', '53322454']\n",
    "report_period_days = 180\n",
    "# счетчики: 52015214 - , 40011245 - , 53322454 - "
   ]
  },
  {
   "cell_type": "code",
   "execution_count": 2,
   "metadata": {
    "tags": []
   },
   "outputs": [],
   "source": [
    "def get_metrika_templates(metrika_url,metrika_headers,counter,report_period_days):\n",
    "\n",
    "    json_content_response = session.get(metrika_url, headers=metrika_headers).json()\n",
    "\n",
    "    columns = []\n",
    "\n",
    "    for i in json_content_response['query']['dimensions']:\n",
    "        columns.append(i.replace(\"ym:s:\",\"\"))\n",
    "    for i in json_content_response['query']['metrics']:\n",
    "        columns.append(i.replace(\"ym:s:\",\"\"))\n",
    "\n",
    "    datalists = dict()\n",
    "    for item in columns:\n",
    "        datalists[item] = []\n",
    "\n",
    "    for i in json_content_response['data']:\n",
    "        datalists[columns[0]].append(i['dimensions'][0]['name'])\n",
    "        datalists[columns[1]].append(i['dimensions'][1]['name'])\n",
    "        for j in range(len(json_content_response['data'][0]['metrics'])):\n",
    "            datalists[columns[j+2]].append(i['metrics'][j])\n",
    "\n",
    "    return pd.DataFrame(datalists)"
   ]
  },
  {
   "cell_type": "code",
   "execution_count": 3,
   "metadata": {},
   "outputs": [],
   "source": [
    "for counter in counters:\n",
    "    metrika_templates = {'traffic': 'https://api-metrika.yandex.net/stat/v1/data?dimensions=ym:s:datePeriodmonth,ym:s:counterID&metrics=ym:s:visits,ym:s:users,ym:s:pageviews,ym:s:percentNewVisitors,ym:s:bounceRate,ym:s:pageDepth,ym:s:avgVisitDurationSeconds&date1={}daysAgo&date2=today&group={}&ids={}&limit=10000'.format(report_period_days, \"month\", counter), 'convertion': 'https://api-metrika.yandex.net/stat/v1/data?dimensions=ym:s:goal,ym:s:counterID&metrics=ym:s:visits,ym:s:users,ym:s:pageviews,ym:s:sumGoalReachesAny,ym:s:anyGoalConversionRate&date1={}daysAgo&date2=today&group={}&ids={}&limit=10000'.format(report_period_days,\"month\",counter), 'DirectPlatform': 'https://api-metrika.yandex.net/stat/v1/data?dimensions=ym:s:lastsignDirectPlatform,ym:s:counterID&metrics=ym:s:visits,ym:s:users,ym:s:bounceRate,ym:s:pageDepth,ym:s:avgVisitDurationSeconds&date1={}daysAgo&date2=today&group={}&ids={}&limit=10000'.format(report_period_days,\"month\",counter), 'geography': 'https://api-metrika.yandex.net/stat/v1/data?dimensions=ym:s:regionCountry,ym:s:counterID&metrics=ym:s:visits,ym:s:users,ym:s:bounceRate,ym:s:pageDepth,ym:s:avgVisitDurationSeconds&date1={}daysAgo&date2=today&group={}&ids={}&limit=10000'.format(report_period_days,\"month\",counter), 'age': 'https://api-metrika.yandex.net/stat/v1/data?dimensions=ym:s:ageInterval,ym:s:counterID&metrics=ym:s:visits,ym:s:users,ym:s:bounceRate,ym:s:pageDepth,ym:s:avgVisitDurationSeconds&date1={}daysAgo&date2=today&group={}&ids={}&limit=10000'.format(report_period_days,\"month\",counter), 'gender': 'https://api-metrika.yandex.net/stat/v1/data?dimensions=ym:s:gender,ym:s:counterID&metrics=ym:s:visits,ym:s:users,ym:s:bounceRate,ym:s:pageDepth,ym:s:avgVisitDurationSeconds&date1={}daysAgo&date2=today&group={}&ids={}&limit=10000'.format(report_period_days,\"month\",counter), 'interests': 'https://api-metrika.yandex.net/stat/v1/data?dimensions=ym:s:interest2d1,ym:s:counterID&metrics=ym:s:visits,ym:s:users,ym:s:affinityIndexInterests2,ym:s:bounceRate,ym:s:pageDepth,ym:s:avgVisitDurationSeconds&date1={}daysAgo&date2=today&group={}&ids={}&limit=10000'.format(report_period_days,\"month\",counter)}\n",
    "    for key, value in metrika_templates.items():\n",
    "        #locals()['ya_data_{}'.format(key)] = get_metrika_templates(value, metrika_headers,counter,n)\n",
    "        get_metrika_templates(value, metrika_headers,counter,report_period_days).to_csv('/Users/aliyadavletshina/Desktop/UD_Group/udg/general_data/gen_{}_{}.csv'.format(counter, key))"
   ]
  },
  {
   "cell_type": "code",
   "execution_count": 4,
   "metadata": {},
   "outputs": [],
   "source": [
    "tables = []\n",
    "for key, value in metrika_templates.items():\n",
    "    tables.append(key)"
   ]
  },
  {
   "cell_type": "code",
   "execution_count": 5,
   "metadata": {},
   "outputs": [],
   "source": [
    "\n",
    "for i in tables:\n",
    "    result = pd.DataFrame()\n",
    "    for j in counters:\n",
    "        df = pd.read_csv(\"/Users/aliyadavletshina/Desktop/UD_Group/udg/general_data/gen_{}_{}.csv\".format(j,i))\n",
    "        os.remove('/Users/aliyadavletshina/Desktop/UD_Group/udg/general_data/gen_{}_{}.csv'.format(j,i))\n",
    "        result = result.append(df, ignore_index=True)\n",
    "    result.to_csv(\"/Users/aliyadavletshina/Desktop/UD_Group/udg/general_data/{}.csv\".format(i))"
   ]
  },
  {
   "cell_type": "code",
   "execution_count": null,
   "metadata": {},
   "outputs": [],
   "source": []
  }
 ]
}